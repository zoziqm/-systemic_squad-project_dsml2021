{
 "cells": [
  {
   "cell_type": "markdown",
   "id": "78022f03",
   "metadata": {},
   "source": [
    "# Option 3 - Spread of Covid 19"
   ]
  },
  {
   "cell_type": "markdown",
   "id": "9419306a",
   "metadata": {},
   "source": [
    "Look at this document for reference,\n",
    "https://www.kaggle.com/anandhuh/covid19-in-world-countrieslatest-data"
   ]
  },
  {
   "cell_type": "code",
   "execution_count": 1,
   "id": "f255e41b",
   "metadata": {},
   "outputs": [],
   "source": [
    "# (1) Import libraries\n",
    "import numpy as np\n",
    "import pandas as pd\n",
    "import matplotlib.pyplot as plt \n",
    "import seaborn as sns \n",
    "from sklearn.model_selection import train_test_split\n",
    "\n",
    "#  Import the machine learning model\n",
    "from sklearn.ensemble import RandomForestClassifier\n",
    "# Import the function for evaluating the model\n",
    "from sklearn.model_selection import cross_val_score\n",
    "\n",
    "# Import GridSearchCV for finding the model with the best parameters\n",
    "from sklearn.model_selection import GridSearchCV\n",
    "\n",
    "# Import functions for measuring metrics of the ml model\n",
    "from sklearn.metrics import accuracy_score, precision_score, recall_score"
   ]
  },
  {
   "cell_type": "markdown",
   "id": "83eded7e",
   "metadata": {},
   "source": [
    "### Step 1 : Understand the given data \n",
    " In this section, we try to get an overview of our dataset. To do that we: \n",
    "- Use the head method to look at the features that the dataset has.\n",
    "- Use the describe method to get some numerical insights about the dataset we have"
   ]
  },
  {
   "cell_type": "code",
   "execution_count": 2,
   "id": "db38109d",
   "metadata": {},
   "outputs": [],
   "source": [
    "# (2) Import the CSV file\n",
    "covid19Df = pd.read_csv('./worldwide covid data.csv')"
   ]
  },
  {
   "cell_type": "code",
   "execution_count": 3,
   "id": "f3016758",
   "metadata": {},
   "outputs": [
    {
     "data": {
      "text/html": [
       "<div>\n",
       "<style scoped>\n",
       "    .dataframe tbody tr th:only-of-type {\n",
       "        vertical-align: middle;\n",
       "    }\n",
       "\n",
       "    .dataframe tbody tr th {\n",
       "        vertical-align: top;\n",
       "    }\n",
       "\n",
       "    .dataframe thead th {\n",
       "        text-align: right;\n",
       "    }\n",
       "</style>\n",
       "<table border=\"1\" class=\"dataframe\">\n",
       "  <thead>\n",
       "    <tr style=\"text-align: right;\">\n",
       "      <th></th>\n",
       "      <th>Country</th>\n",
       "      <th>Total Cases</th>\n",
       "      <th>Total Deaths</th>\n",
       "      <th>Total Recovered</th>\n",
       "      <th>Active Cases</th>\n",
       "      <th>Total Cases/1M population</th>\n",
       "      <th>Deaths/1M population</th>\n",
       "      <th>Total Tests</th>\n",
       "      <th>Tests/1M population</th>\n",
       "      <th>Population</th>\n",
       "    </tr>\n",
       "  </thead>\n",
       "  <tbody>\n",
       "    <tr>\n",
       "      <th>0</th>\n",
       "      <td>Afghanistan</td>\n",
       "      <td>156307</td>\n",
       "      <td>7281</td>\n",
       "      <td>128791.0</td>\n",
       "      <td>20235.0</td>\n",
       "      <td>3898</td>\n",
       "      <td>182</td>\n",
       "      <td>774655.0</td>\n",
       "      <td>19319.0</td>\n",
       "      <td>40097200</td>\n",
       "    </tr>\n",
       "    <tr>\n",
       "      <th>1</th>\n",
       "      <td>Albania</td>\n",
       "      <td>186222</td>\n",
       "      <td>2937</td>\n",
       "      <td>175451.0</td>\n",
       "      <td>7834.0</td>\n",
       "      <td>64805</td>\n",
       "      <td>1022</td>\n",
       "      <td>1311540.0</td>\n",
       "      <td>456411.0</td>\n",
       "      <td>2873596</td>\n",
       "    </tr>\n",
       "  </tbody>\n",
       "</table>\n",
       "</div>"
      ],
      "text/plain": [
       "       Country  Total Cases  Total Deaths  Total Recovered  Active Cases  \\\n",
       "0  Afghanistan       156307          7281         128791.0       20235.0   \n",
       "1      Albania       186222          2937         175451.0        7834.0   \n",
       "\n",
       "   Total Cases/1M population  Deaths/1M population  Total Tests  \\\n",
       "0                       3898                   182     774655.0   \n",
       "1                      64805                  1022    1311540.0   \n",
       "\n",
       "   Tests/1M population  Population  \n",
       "0              19319.0    40097200  \n",
       "1             456411.0     2873596  "
      ]
     },
     "execution_count": 3,
     "metadata": {},
     "output_type": "execute_result"
    }
   ],
   "source": [
    "# (3) Explore data (for example, see what is categorial and numerical)\n",
    "covid19Df.head(2) "
   ]
  },
  {
   "cell_type": "code",
   "execution_count": 4,
   "id": "93d90b49",
   "metadata": {},
   "outputs": [
    {
     "data": {
      "text/html": [
       "<div>\n",
       "<style scoped>\n",
       "    .dataframe tbody tr th:only-of-type {\n",
       "        vertical-align: middle;\n",
       "    }\n",
       "\n",
       "    .dataframe tbody tr th {\n",
       "        vertical-align: top;\n",
       "    }\n",
       "\n",
       "    .dataframe thead th {\n",
       "        text-align: right;\n",
       "    }\n",
       "</style>\n",
       "<table border=\"1\" class=\"dataframe\">\n",
       "  <thead>\n",
       "    <tr style=\"text-align: right;\">\n",
       "      <th></th>\n",
       "      <th>Total Cases</th>\n",
       "      <th>Total Deaths</th>\n",
       "      <th>Total Recovered</th>\n",
       "      <th>Active Cases</th>\n",
       "      <th>Total Cases/1M population</th>\n",
       "      <th>Deaths/1M population</th>\n",
       "      <th>Total Tests</th>\n",
       "      <th>Tests/1M population</th>\n",
       "      <th>Population</th>\n",
       "    </tr>\n",
       "  </thead>\n",
       "  <tbody>\n",
       "    <tr>\n",
       "      <th>count</th>\n",
       "      <td>1.960000e+02</td>\n",
       "      <td>196.000000</td>\n",
       "      <td>1.940000e+02</td>\n",
       "      <td>1.940000e+02</td>\n",
       "      <td>196.000000</td>\n",
       "      <td>196.000000</td>\n",
       "      <td>1.920000e+02</td>\n",
       "      <td>1.920000e+02</td>\n",
       "      <td>1.960000e+02</td>\n",
       "    </tr>\n",
       "    <tr>\n",
       "      <th>mean</th>\n",
       "      <td>1.266763e+06</td>\n",
       "      <td>25658.688776</td>\n",
       "      <td>1.150839e+06</td>\n",
       "      <td>9.260771e+04</td>\n",
       "      <td>56113.617347</td>\n",
       "      <td>914.311224</td>\n",
       "      <td>2.094107e+07</td>\n",
       "      <td>1.060358e+06</td>\n",
       "      <td>4.008576e+07</td>\n",
       "    </tr>\n",
       "    <tr>\n",
       "      <th>std</th>\n",
       "      <td>4.593222e+06</td>\n",
       "      <td>84846.606103</td>\n",
       "      <td>4.046744e+06</td>\n",
       "      <td>6.744275e+05</td>\n",
       "      <td>51997.542468</td>\n",
       "      <td>955.591341</td>\n",
       "      <td>7.512503e+07</td>\n",
       "      <td>1.876692e+06</td>\n",
       "      <td>1.482140e+08</td>\n",
       "    </tr>\n",
       "    <tr>\n",
       "      <th>min</th>\n",
       "      <td>2.621000e+03</td>\n",
       "      <td>3.000000</td>\n",
       "      <td>5.500000e+01</td>\n",
       "      <td>2.000000e+00</td>\n",
       "      <td>68.000000</td>\n",
       "      <td>3.000000</td>\n",
       "      <td>1.468900e+04</td>\n",
       "      <td>3.287000e+03</td>\n",
       "      <td>3.402600e+04</td>\n",
       "    </tr>\n",
       "    <tr>\n",
       "      <th>25%</th>\n",
       "      <td>2.237675e+04</td>\n",
       "      <td>333.500000</td>\n",
       "      <td>1.590175e+04</td>\n",
       "      <td>6.695000e+02</td>\n",
       "      <td>5636.000000</td>\n",
       "      <td>112.500000</td>\n",
       "      <td>3.540520e+05</td>\n",
       "      <td>1.051550e+05</td>\n",
       "      <td>1.987078e+06</td>\n",
       "    </tr>\n",
       "    <tr>\n",
       "      <th>50%</th>\n",
       "      <td>1.778875e+05</td>\n",
       "      <td>2434.500000</td>\n",
       "      <td>1.402300e+05</td>\n",
       "      <td>7.220000e+03</td>\n",
       "      <td>46790.000000</td>\n",
       "      <td>628.000000</td>\n",
       "      <td>1.978244e+06</td>\n",
       "      <td>4.632715e+05</td>\n",
       "      <td>8.907116e+06</td>\n",
       "    </tr>\n",
       "    <tr>\n",
       "      <th>75%</th>\n",
       "      <td>6.605052e+05</td>\n",
       "      <td>11778.500000</td>\n",
       "      <td>6.085508e+05</td>\n",
       "      <td>3.443275e+04</td>\n",
       "      <td>91629.750000</td>\n",
       "      <td>1560.750000</td>\n",
       "      <td>1.112483e+07</td>\n",
       "      <td>1.280447e+06</td>\n",
       "      <td>2.893874e+07</td>\n",
       "    </tr>\n",
       "    <tr>\n",
       "      <th>max</th>\n",
       "      <td>4.699977e+07</td>\n",
       "      <td>768847.000000</td>\n",
       "      <td>3.700999e+07</td>\n",
       "      <td>9.220934e+06</td>\n",
       "      <td>231328.000000</td>\n",
       "      <td>5964.000000</td>\n",
       "      <td>7.034355e+08</td>\n",
       "      <td>1.481471e+07</td>\n",
       "      <td>1.439324e+09</td>\n",
       "    </tr>\n",
       "  </tbody>\n",
       "</table>\n",
       "</div>"
      ],
      "text/plain": [
       "        Total Cases   Total Deaths  Total Recovered  Active Cases  \\\n",
       "count  1.960000e+02     196.000000     1.940000e+02  1.940000e+02   \n",
       "mean   1.266763e+06   25658.688776     1.150839e+06  9.260771e+04   \n",
       "std    4.593222e+06   84846.606103     4.046744e+06  6.744275e+05   \n",
       "min    2.621000e+03       3.000000     5.500000e+01  2.000000e+00   \n",
       "25%    2.237675e+04     333.500000     1.590175e+04  6.695000e+02   \n",
       "50%    1.778875e+05    2434.500000     1.402300e+05  7.220000e+03   \n",
       "75%    6.605052e+05   11778.500000     6.085508e+05  3.443275e+04   \n",
       "max    4.699977e+07  768847.000000     3.700999e+07  9.220934e+06   \n",
       "\n",
       "       Total Cases/1M population  Deaths/1M population   Total Tests  \\\n",
       "count                 196.000000            196.000000  1.920000e+02   \n",
       "mean                56113.617347            914.311224  2.094107e+07   \n",
       "std                 51997.542468            955.591341  7.512503e+07   \n",
       "min                    68.000000              3.000000  1.468900e+04   \n",
       "25%                  5636.000000            112.500000  3.540520e+05   \n",
       "50%                 46790.000000            628.000000  1.978244e+06   \n",
       "75%                 91629.750000           1560.750000  1.112483e+07   \n",
       "max                231328.000000           5964.000000  7.034355e+08   \n",
       "\n",
       "       Tests/1M population    Population  \n",
       "count         1.920000e+02  1.960000e+02  \n",
       "mean          1.060358e+06  4.008576e+07  \n",
       "std           1.876692e+06  1.482140e+08  \n",
       "min           3.287000e+03  3.402600e+04  \n",
       "25%           1.051550e+05  1.987078e+06  \n",
       "50%           4.632715e+05  8.907116e+06  \n",
       "75%           1.280447e+06  2.893874e+07  \n",
       "max           1.481471e+07  1.439324e+09  "
      ]
     },
     "execution_count": 4,
     "metadata": {},
     "output_type": "execute_result"
    }
   ],
   "source": [
    "covid19Df.describe()"
   ]
  },
  {
   "cell_type": "markdown",
   "id": "3a94822e",
   "metadata": {},
   "source": [
    "For the purpose of this project, we decided as a group that we want to train our model to classify the countries to either have **High Death Rate** or **Low Death Rate**. To be able to do such a classification, we had to label the countries we have in our dataset into those two classes.</br> To find the death rate of a country we divided the $$Death Rate = \\frac{\n",
    "Deaths/1M population}{Total Cases/1M population} * 100$$ We took the mean death rate across all countries in the dataset. Any country that has a lower death rate than the average was classified as a Low Death Rate country and vice versa. "
   ]
  },
  {
   "cell_type": "code",
   "execution_count": 5,
   "id": "ad6cf212",
   "metadata": {},
   "outputs": [
    {
     "data": {
      "text/html": [
       "<div>\n",
       "<style scoped>\n",
       "    .dataframe tbody tr th:only-of-type {\n",
       "        vertical-align: middle;\n",
       "    }\n",
       "\n",
       "    .dataframe tbody tr th {\n",
       "        vertical-align: top;\n",
       "    }\n",
       "\n",
       "    .dataframe thead th {\n",
       "        text-align: right;\n",
       "    }\n",
       "</style>\n",
       "<table border=\"1\" class=\"dataframe\">\n",
       "  <thead>\n",
       "    <tr style=\"text-align: right;\">\n",
       "      <th></th>\n",
       "      <th>Country</th>\n",
       "      <th>Total Cases</th>\n",
       "      <th>Total Deaths</th>\n",
       "      <th>Total Recovered</th>\n",
       "      <th>Active Cases</th>\n",
       "      <th>Total Cases/1M population</th>\n",
       "      <th>Deaths/1M population</th>\n",
       "      <th>Total Tests</th>\n",
       "      <th>Tests/1M population</th>\n",
       "      <th>Population</th>\n",
       "      <th>High/ Low Death Rate</th>\n",
       "      <th>Death Rate Score</th>\n",
       "    </tr>\n",
       "  </thead>\n",
       "  <tbody>\n",
       "    <tr>\n",
       "      <th>0</th>\n",
       "      <td>Afghanistan</td>\n",
       "      <td>156307</td>\n",
       "      <td>7281</td>\n",
       "      <td>128791.0</td>\n",
       "      <td>20235.0</td>\n",
       "      <td>3898</td>\n",
       "      <td>182</td>\n",
       "      <td>774655.0</td>\n",
       "      <td>19319.0</td>\n",
       "      <td>40097200</td>\n",
       "      <td>True</td>\n",
       "      <td>4.669061</td>\n",
       "    </tr>\n",
       "    <tr>\n",
       "      <th>1</th>\n",
       "      <td>Albania</td>\n",
       "      <td>186222</td>\n",
       "      <td>2937</td>\n",
       "      <td>175451.0</td>\n",
       "      <td>7834.0</td>\n",
       "      <td>64805</td>\n",
       "      <td>1022</td>\n",
       "      <td>1311540.0</td>\n",
       "      <td>456411.0</td>\n",
       "      <td>2873596</td>\n",
       "      <td>False</td>\n",
       "      <td>1.577039</td>\n",
       "    </tr>\n",
       "  </tbody>\n",
       "</table>\n",
       "</div>"
      ],
      "text/plain": [
       "       Country  Total Cases  Total Deaths  Total Recovered  Active Cases  \\\n",
       "0  Afghanistan       156307          7281         128791.0       20235.0   \n",
       "1      Albania       186222          2937         175451.0        7834.0   \n",
       "\n",
       "   Total Cases/1M population  Deaths/1M population  Total Tests  \\\n",
       "0                       3898                   182     774655.0   \n",
       "1                      64805                  1022    1311540.0   \n",
       "\n",
       "   Tests/1M population  Population  High/ Low Death Rate  Death Rate Score  \n",
       "0              19319.0    40097200                  True          4.669061  \n",
       "1             456411.0     2873596                 False          1.577039  "
      ]
     },
     "execution_count": 5,
     "metadata": {},
     "output_type": "execute_result"
    }
   ],
   "source": [
    "featuresDf = covid19Df \n",
    "labels = [] # A list that will hold the labels of each country \n",
    "scores = [] # We will use the scores in EDA for representation of the data \n",
    "deathRateMean= (featuresDf['Deaths/1M population'].mean()/featuresDf['Total Cases/1M population'].mean()) *100\n",
    "for index, row in featuresDf.iterrows():\n",
    "    score = row['Deaths/1M population']/row['Total Cases/1M population']*100\n",
    "    scores.append(score)\n",
    "    if score < deathRateMean:\n",
    "        labels.append(False)\n",
    "    else: \n",
    "        labels.append(True)\n",
    "        \n",
    "# Add a new cloumn with the Death Rate \n",
    "# High Death Rate - > True \n",
    "# Low Death Rate -> False\n",
    "featuresDf['High/ Low Death Rate'] = pd.DataFrame( data=labels, columns=['High/ Low Death Rate'] )\n",
    "featuresDf['Death Rate Score'] = pd.DataFrame( data=scores, columns=['Death Rate Score'] )\n",
    "\n",
    "#Look at the new table \n",
    "covid19Df.head(2) "
   ]
  },
  {
   "cell_type": "markdown",
   "id": "5ceb43b5",
   "metadata": {},
   "source": [
    "### Step 2 : Feature Engineering  \n",
    " In this section, we tried to clean our data by checking the following: \n",
    "- Uniqueness \n",
    "- Correctness \n",
    "- No missing information \n",
    "- Relevancy\n",
    "- Converting data types \n",
    "Finally, after cleaning our data we choose the label we want to train our machine learning model on. The label was \"High/ Low Death Rate\"."
   ]
  },
  {
   "cell_type": "code",
   "execution_count": 6,
   "id": "e46a529c",
   "metadata": {},
   "outputs": [],
   "source": [
    "# (4) Choose the label and features\n",
    "# Note: we moved this step to after cleaning the data "
   ]
  },
  {
   "cell_type": "code",
   "execution_count": 7,
   "id": "e1e179b7",
   "metadata": {},
   "outputs": [
    {
     "name": "stdout",
     "output_type": "stream",
     "text": [
      "Before Dropping Duplicates :  (196, 12) \n",
      "\n",
      "\n",
      "After Dropping Duplicates :  (196, 12)\n"
     ]
    }
   ],
   "source": [
    "# (a) unique\n",
    "# Prove No Duplicates\n",
    "print(\"Before Dropping Duplicates : \",featuresDf.shape,'\\n')\n",
    "featuresDf =featuresDf.drop_duplicates()\n",
    "print(\"\\nAfter Dropping Duplicates : \",featuresDf.shape)"
   ]
  },
  {
   "cell_type": "code",
   "execution_count": 8,
   "id": "9481753a",
   "metadata": {},
   "outputs": [],
   "source": [
    "# (b) correct \n",
    "#Make sure no value is negative \n",
    "#Finding Negative Values and Capping To 0.\n",
    "for col in featuresDf.columns:\n",
    "    if(col=='Country'):\n",
    "        continue\n",
    "    for j in range(len(featuresDf)):\n",
    "        if(featuresDf[col][j]<0):\n",
    "            featuresDf[col][j]=0"
   ]
  },
  {
   "cell_type": "code",
   "execution_count": 9,
   "id": "97f9d2a0",
   "metadata": {},
   "outputs": [
    {
     "data": {
      "text/plain": [
       "Country                      0\n",
       "Total Cases                  0\n",
       "Total Deaths                 0\n",
       "Total Recovered              2\n",
       "Active Cases                 2\n",
       "Total Cases/1M population    0\n",
       "Deaths/1M population         0\n",
       "Total Tests                  4\n",
       "Tests/1M population          4\n",
       "Population                   0\n",
       "High/ Low Death Rate         0\n",
       "Death Rate Score             0\n",
       "dtype: int64"
      ]
     },
     "execution_count": 9,
     "metadata": {},
     "output_type": "execute_result"
    }
   ],
   "source": [
    "# (c) not missing\n",
    "# First check the number of NULLS \n",
    "featuresDf.isna().sum()"
   ]
  },
  {
   "cell_type": "code",
   "execution_count": 10,
   "id": "5f0f57ae",
   "metadata": {},
   "outputs": [],
   "source": [
    "# Drop any rows with missing data \n",
    "featuresDf.dropna(inplace=True)"
   ]
  },
  {
   "cell_type": "code",
   "execution_count": 11,
   "id": "32445b00",
   "metadata": {},
   "outputs": [],
   "source": [
    "# Covert float64 into int64\n",
    "featuresDf['Tests/1M population'] = featuresDf['Tests/1M population'].apply(np.int64)"
   ]
  },
  {
   "cell_type": "code",
   "execution_count": 12,
   "id": "a3b7a9f9",
   "metadata": {},
   "outputs": [],
   "source": [
    "# (D) relevant\n",
    "# we will drop info after EDA as we will use the info in understanding the data "
   ]
  },
  {
   "cell_type": "markdown",
   "id": "91d06937",
   "metadata": {},
   "source": [
    "### Step 3 : Exploratory Analysis \n",
    "We decided that the best way to visualize the data is to have a bar graph of the death rate for each country. "
   ]
  },
  {
   "cell_type": "code",
   "execution_count": 42,
   "id": "3323db90",
   "metadata": {},
   "outputs": [
    {
     "data": {
      "image/png": "[encoded data removed]",
      "text/plain": [
       "<Figure size 1080x720 with 1 Axes>"
      ]
     },
     "metadata": {},
     "output_type": "display_data"
    }
   ],
   "source": [
    "# (6) Confirm data is ready with further exploratory analysis\n",
    "# for the illustration purposes we will check only the first 50 countries \n",
    "dataCovid19 = featuresDf[featuresDf['Death Rate Score'] < 10]\n",
    "sns.set(rc = {'figure.figsize':(15,10)})\n",
    "ax = sns.barplot(y=\"Death Rate Score\", x=\"Country\", data=dataCovid19)\n",
    "ax.set(xticklabels=[])\n",
    "mean =(featuresDf['Deaths/1M population'].mean()/featuresDf['Total Cases/1M population'].mean()) *100\n",
    "plt.axhline(mean, color='black', linestyle='--', linewidth=3)\n",
    "plt.show()"
   ]
  },
  {
   "cell_type": "code",
   "execution_count": 28,
   "id": "9a03f248",
   "metadata": {},
   "outputs": [
    {
     "data": {
      "text/plain": [
       "<AxesSubplot:xlabel='Total Cases', ylabel='Total Deaths'>"
      ]
     },
     "execution_count": 28,
     "metadata": {},
     "output_type": "execute_result"
    },
    {
     "data": {
      "image/png": "[encoded data removed]",
      "text/plain": [
       "<Figure size 720x720 with 1 Axes>"
      ]
     },
     "metadata": {},
     "output_type": "display_data"
    }
   ],
   "source": [
    "dataCovid19 = featuresDf[featuresDf['Total Deaths'] < 60000]\n",
    "sns.set_theme(style=\"whitegrid\")\n",
    "sns.set(rc = {'figure.figsize':(10,10)})\n",
    "sns.scatterplot(data=dataCovid19, y=\"Total Deaths\", x=\"Total Cases\", hue=\"High/ Low Death Rate\")"
   ]
  },
  {
   "cell_type": "code",
   "execution_count": 43,
   "id": "d5442757",
   "metadata": {},
   "outputs": [
    {
     "data": {
      "text/plain": [
       "1.5839677971741968"
      ]
     },
     "execution_count": 43,
     "metadata": {},
     "output_type": "execute_result"
    }
   ],
   "source": [
    "(featuresDf['Deaths/1M population'].mean()/featuresDf['Total Cases/1M population'].mean()) *100"
   ]
  },
  {
   "cell_type": "code",
   "execution_count": null,
   "id": "ce9479f5",
   "metadata": {},
   "outputs": [],
   "source": [
    "# Now we will do Step 4 and drop irrleavent features \n",
    "\n",
    "# Droping irrelevant features \n",
    "featuresDf = featuresDf.drop(['Total Cases','Total Deaths','Total Recovered',\n",
    "                             'Total Tests', 'Active Cases', 'Country', 'Death Rate Score'], axis=1,inplace =False)\n",
    "# (4) Choose the label and features\n",
    "LabelDf = featuresDf['High/ Low Death Rate']\n",
    "featuresDf = featuresDf.drop('High/ Low Death Rate', axis=1,inplace =False)\n",
    "print(featuresDf.shape)\n",
    "print(LabelDf.shape)"
   ]
  },
  {
   "cell_type": "markdown",
   "id": "4b40baf8",
   "metadata": {},
   "source": [
    "### Step 4 : Machine Learning \n",
    "We decided to use Random Forest Classifier just like we used it in the course. We first splitted our data into : Training, Validating, and Testing. </br></br>\n",
    "Then after checking with cross-validation that we can use Random Forest Classifier. We used GridSearchCV to pick the best 3 hyperparameters.</br></br>\n",
    "We trained our data and validated those with the 3 best hyperparameters then we tested our code with the best hyperparameters that gave us high accuracy with a precision and recall close to each other. "
   ]
  },
  {
   "cell_type": "code",
   "execution_count": null,
   "id": "6d9f84a8",
   "metadata": {},
   "outputs": [],
   "source": [
    "# (7) Training, Testing (and/or Validation) data split \n",
    "\n",
    "# for example, 60/20/20\n",
    "\n",
    "# Training we have 60% and 40% for test\n",
    "trainF, testF, trainL, testL = train_test_split( featuresDf, LabelDf, test_size=0.4, random_state=42 )\n",
    "\n",
    "# Divide the test into two parts: 50% for test and 50% for validation\n",
    "testF, valF, testL, valL = train_test_split( testF, testL, test_size=0.5, random_state=42 )"
   ]
  },
  {
   "cell_type": "code",
   "execution_count": null,
   "id": "2348199b",
   "metadata": {},
   "outputs": [],
   "source": [
    "#Cross Validation \n",
    "# Instantiate the RandomForestClassifier\n",
    "rfModel = RandomForestClassifier()\n",
    "scores = cross_val_score( rfModel, trainF, trainL.values.ravel(), cv=5 )\n",
    "print( scores )"
   ]
  },
  {
   "cell_type": "markdown",
   "id": "b6c73390",
   "metadata": {},
   "source": [
    "We can see from the result of the cross-validation that the scores are close to each other. Meaning we can use this model to classify our countries."
   ]
  },
  {
   "cell_type": "code",
   "execution_count": null,
   "id": "e2496a04",
   "metadata": {},
   "outputs": [],
   "source": [
    "def printResults(gridSearchResults):\n",
    "\n",
    "    print( 'Best ML Hyperparameters: {}\\n'.format(gridSearchResults.best_params_) )\n",
    "\n",
    "    means = gridSearchResults.cv_results_['mean_test_score']\n",
    "    stnDvs = gridSearchResults.cv_results_['std_test_score']\n",
    "\n",
    "    for mean, stnDvs, parameters in zip( means, stnDvs, gridSearchResults.cv_results_['params'] ):\n",
    "        print(\n",
    "            '{} (+/-{}) for {}'.format(\n",
    "                round(mean, 3),\n",
    "                round(stnDvs*2, 3),\n",
    "                parameters\n",
    "            ) \n",
    "        )"
   ]
  },
  {
   "cell_type": "code",
   "execution_count": null,
   "id": "83c50080",
   "metadata": {},
   "outputs": [],
   "source": [
    "# Instantiate the model and set the hyperparameters \n",
    "rfModel = RandomForestClassifier()\n",
    "\n",
    "hyperparameters = {\n",
    "    'n_estimators': [5, 50, 100],\n",
    "    'max_depth': [2, 10, 20, None]\n",
    "}\n",
    "\n",
    "# GridSearchCV will search and rank the models according their parameters\n",
    "# Note:\n",
    "# sklearn refers to 'hyperparameters' as 'parameters'\n",
    "gridSearch = GridSearchCV( rfModel, hyperparameters, cv=5 )\n",
    "\n",
    "# .fit() will have the model, rfModel, learn the parameters of the features\n",
    "gridSearch.fit( trainF, trainL.values.ravel() )\n",
    "\n",
    "printResults( gridSearch )"
   ]
  },
  {
   "cell_type": "code",
   "execution_count": null,
   "id": "2391b7ed",
   "metadata": {},
   "outputs": [],
   "source": [
    "# (8) Training the Machine Learning Model (i.e, Fitting the Model)\n",
    "\n",
    "rfModel1 = RandomForestClassifier(n_estimators=50, max_depth=None)\n",
    "rfModel1.fit( trainF, trainL.values.ravel() )\n",
    "\n",
    "rfModel2 = RandomForestClassifier(n_estimators=50, max_depth=20)\n",
    "rfModel2.fit( trainF, trainL.values.ravel() )\n",
    "\n",
    "rfModel3 = RandomForestClassifier(n_estimators=50, max_depth=10)\n",
    "rfModel3.fit( trainF, trainL.values.ravel() )"
   ]
  },
  {
   "cell_type": "code",
   "execution_count": null,
   "id": "a0fd5597",
   "metadata": {},
   "outputs": [],
   "source": [
    "# (9) Evaluate the model metrics for Training (and/or Validation) data\n",
    "for rfML in [rfModel1, rfModel2, rfModel3]:\n",
    "\n",
    "    predictedLabels = rfML.predict(valF)\n",
    "\n",
    "    # Find the metrics for the model: (a) accuracy, (b) precision, and (c) recall\n",
    "    accuracy = round(accuracy_score(valL, predictedLabels), 3)\n",
    "    precision = round(precision_score(valL, predictedLabels), 3)\n",
    "    recall = round(recall_score(valL, predictedLabels), 3)\n",
    "\n",
    "    # Print the metrics for each model\n",
    "    print(\n",
    "        'Max depth: {} and Estimators: {}'.format(rfML.max_depth, rfML.n_estimators)\n",
    "    )\n",
    "    print(\n",
    "        'Accuracy: {}, Precision: {}, Recall: {}'.format( accuracy, precision, recall )\n",
    "    )\n",
    "    print('-------------------------------------------------')"
   ]
  },
  {
   "cell_type": "code",
   "execution_count": null,
   "id": "70844172",
   "metadata": {},
   "outputs": [],
   "source": [
    "# We decided to use the third model becuase it has the closest recall and percision\n",
    "# (10) Evaluate the model metris for Testing data\n",
    "predictedLabels = rfModel2.predict( testF )\n",
    "\n",
    "# Find the metrics for the model: (a) accuracy, (b) precision, and (c) recall\n",
    "accuracy = round(accuracy_score(testL, predictedLabels), 3)\n",
    "precision = round(precision_score(testL, predictedLabels), 3)\n",
    "recall = round(recall_score(testL, predictedLabels), 3)\n",
    "\n",
    "# Print the metrics for each model\n",
    "print(\n",
    "    'Max depth: {} and Estimators: {}'.format(rfML.max_depth, rfML.n_estimators)\n",
    ")\n",
    "print(\n",
    "    'Accuracy: {}, Precision: {}, Recall: {}'.format( accuracy, precision, recall )\n",
    ")\n",
    "print('-------------------------------------------------')"
   ]
  },
  {
   "cell_type": "code",
   "execution_count": null,
   "id": "d75259fa",
   "metadata": {},
   "outputs": [],
   "source": [
    "# (11) Use the model for prediction\n",
    "newDataFeatures = {\n",
    "    'Total Cases/1M population': [800,1000],\n",
    "    'Deaths/1M population': [5, 500],\n",
    "    'Tests/1M population': [10,50],\n",
    "    'Population': [3000, 4000],\n",
    "}\n",
    "\n",
    "newDataFeaturesDf = pd.DataFrame(data=newDataFeatures)\n",
    "print('Table of two anonymous country without death rate information:')\n",
    "newDataFeaturesDf.head()"
   ]
  },
  {
   "cell_type": "code",
   "execution_count": null,
   "id": "7fe65e69",
   "metadata": {},
   "outputs": [],
   "source": [
    "predictedLabels = rfModel2.predict( newDataFeaturesDf )\n",
    "newDataFeaturesDf['High/ Low Death Rate'] = predictedLabels\n",
    "print('Table of two anonymous country with predicted death rate information:')\n",
    "newDataFeaturesDf.head()"
   ]
  },
  {
   "cell_type": "code",
   "execution_count": null,
   "id": "defc0cd0",
   "metadata": {},
   "outputs": [],
   "source": [
    "# (12) Write final predicted data  (e.g, to CSV or JSON, etc.)\n",
    "with open('PredictedDeathRate.csv', 'a', newline=\"\") as f:\n",
    "    newDataFeaturesDf.to_csv(f, index=False, header=True)\n"
   ]
  }
 ],
 "metadata": {
  "kernelspec": {
   "display_name": "Python 3 (ipykernel)",
   "language": "python",
   "name": "python3"
  },
  "language_info": {
   "codemirror_mode": {
    "name": "ipython",
    "version": 3
   },
   "file_extension": ".py",
   "mimetype": "text/x-python",
   "name": "python",
   "nbconvert_exporter": "python",
   "pygments_lexer": "ipython3",
   "version": "3.8.11"
  }
 },
 "nbformat": 4,
 "nbformat_minor": 5
}
