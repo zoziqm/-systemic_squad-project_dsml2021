{
 "cells": [
  {
   "cell_type": "markdown",
   "id": "78022f03",
   "metadata": {},
   "source": [
    "## Option 3 - Spread of Covid 19"
   ]
  },
  {
   "cell_type": "markdown",
   "id": "9419306a",
   "metadata": {},
   "source": [
    "Look at this document for reference,\n",
    "https://www.kaggle.com/anandhuh/covid19-in-world-countrieslatest-data"
   ]
  },
  {
   "cell_type": "code",
   "execution_count": 1,
   "id": "f255e41b",
   "metadata": {},
   "outputs": [],
   "source": [
    "# (1) Import libraries\n",
    "import numpy as np\n",
    "import pandas as pd\n",
    "import matplotlib.pyplot as plt \n",
    "import seaborn as sns "
   ]
  },
  {
   "cell_type": "code",
   "execution_count": 2,
   "id": "db38109d",
   "metadata": {},
   "outputs": [],
   "source": [
    "# (2) Import the CSV file\n",
    "covid19Df = pd.read_csv('./worldwide covid data.csv')"
   ]
  },
  {
   "cell_type": "code",
   "execution_count": 3,
   "id": "f3016758",
   "metadata": {},
   "outputs": [
    {
     "data": {
      "text/html": [
       "<div>\n",
       "<style scoped>\n",
       "    .dataframe tbody tr th:only-of-type {\n",
       "        vertical-align: middle;\n",
       "    }\n",
       "\n",
       "    .dataframe tbody tr th {\n",
       "        vertical-align: top;\n",
       "    }\n",
       "\n",
       "    .dataframe thead th {\n",
       "        text-align: right;\n",
       "    }\n",
       "</style>\n",
       "<table border=\"1\" class=\"dataframe\">\n",
       "  <thead>\n",
       "    <tr style=\"text-align: right;\">\n",
       "      <th></th>\n",
       "      <th>Country</th>\n",
       "      <th>Total Cases</th>\n",
       "      <th>Total Deaths</th>\n",
       "      <th>Total Recovered</th>\n",
       "      <th>Active Cases</th>\n",
       "      <th>Total Cases/1M population</th>\n",
       "      <th>Deaths/1M population</th>\n",
       "      <th>Total Tests</th>\n",
       "      <th>Tests/1M population</th>\n",
       "      <th>Population</th>\n",
       "    </tr>\n",
       "  </thead>\n",
       "  <tbody>\n",
       "    <tr>\n",
       "      <th>0</th>\n",
       "      <td>Afghanistan</td>\n",
       "      <td>156397</td>\n",
       "      <td>7290</td>\n",
       "      <td>128982.0</td>\n",
       "      <td>20125.0</td>\n",
       "      <td>3899</td>\n",
       "      <td>182</td>\n",
       "      <td>777578.0</td>\n",
       "      <td>19384.0</td>\n",
       "      <td>40114009</td>\n",
       "    </tr>\n",
       "    <tr>\n",
       "      <th>1</th>\n",
       "      <td>Albania</td>\n",
       "      <td>190125</td>\n",
       "      <td>2970</td>\n",
       "      <td>178998.0</td>\n",
       "      <td>8157.0</td>\n",
       "      <td>66164</td>\n",
       "      <td>1034</td>\n",
       "      <td>1334004.0</td>\n",
       "      <td>464238.0</td>\n",
       "      <td>2873536</td>\n",
       "    </tr>\n",
       "    <tr>\n",
       "      <th>2</th>\n",
       "      <td>Algeria</td>\n",
       "      <td>207385</td>\n",
       "      <td>5954</td>\n",
       "      <td>142332.0</td>\n",
       "      <td>59099.0</td>\n",
       "      <td>4616</td>\n",
       "      <td>133</td>\n",
       "      <td>230861.0</td>\n",
       "      <td>5139.0</td>\n",
       "      <td>44922583</td>\n",
       "    </tr>\n",
       "    <tr>\n",
       "      <th>3</th>\n",
       "      <td>Andorra</td>\n",
       "      <td>15717</td>\n",
       "      <td>130</td>\n",
       "      <td>15392.0</td>\n",
       "      <td>195.0</td>\n",
       "      <td>202975</td>\n",
       "      <td>1679</td>\n",
       "      <td>193595.0</td>\n",
       "      <td>2500161.0</td>\n",
       "      <td>77433</td>\n",
       "    </tr>\n",
       "    <tr>\n",
       "      <th>4</th>\n",
       "      <td>Angola</td>\n",
       "      <td>64762</td>\n",
       "      <td>1723</td>\n",
       "      <td>61092.0</td>\n",
       "      <td>1947.0</td>\n",
       "      <td>1891</td>\n",
       "      <td>50</td>\n",
       "      <td>1140341.0</td>\n",
       "      <td>33297.0</td>\n",
       "      <td>34247275</td>\n",
       "    </tr>\n",
       "  </tbody>\n",
       "</table>\n",
       "</div>"
      ],
      "text/plain": [
       "       Country  Total Cases  Total Deaths  Total Recovered  Active Cases  \\\n",
       "0  Afghanistan       156397          7290         128982.0       20125.0   \n",
       "1      Albania       190125          2970         178998.0        8157.0   \n",
       "2      Algeria       207385          5954         142332.0       59099.0   \n",
       "3      Andorra        15717           130          15392.0         195.0   \n",
       "4       Angola        64762          1723          61092.0        1947.0   \n",
       "\n",
       "   Total Cases/1M population  Deaths/1M population  Total Tests  \\\n",
       "0                       3899                   182     777578.0   \n",
       "1                      66164                  1034    1334004.0   \n",
       "2                       4616                   133     230861.0   \n",
       "3                     202975                  1679     193595.0   \n",
       "4                       1891                    50    1140341.0   \n",
       "\n",
       "   Tests/1M population  Population  \n",
       "0              19384.0    40114009  \n",
       "1             464238.0     2873536  \n",
       "2               5139.0    44922583  \n",
       "3            2500161.0       77433  \n",
       "4              33297.0    34247275  "
      ]
     },
     "execution_count": 3,
     "metadata": {},
     "output_type": "execute_result"
    }
   ],
   "source": [
    "# (3) Explore data (for example, see what is categorial and numerical)\n",
    "covid19Df.head()"
   ]
  },
  {
   "cell_type": "code",
   "execution_count": 4,
   "id": "93d90b49",
   "metadata": {},
   "outputs": [
    {
     "name": "stdout",
     "output_type": "stream",
     "text": [
      "<class 'pandas.core.frame.DataFrame'>\n",
      "RangeIndex: 196 entries, 0 to 195\n",
      "Data columns (total 10 columns):\n",
      " #   Column                     Non-Null Count  Dtype  \n",
      "---  ------                     --------------  -----  \n",
      " 0   Country                    196 non-null    object \n",
      " 1   Total Cases                196 non-null    int64  \n",
      " 2   Total Deaths               196 non-null    int64  \n",
      " 3   Total Recovered            194 non-null    float64\n",
      " 4   Active Cases               194 non-null    float64\n",
      " 5   Total Cases/1M population  196 non-null    int64  \n",
      " 6   Deaths/1M population       196 non-null    int64  \n",
      " 7   Total Tests                192 non-null    float64\n",
      " 8   Tests/1M population        192 non-null    float64\n",
      " 9   Population                 196 non-null    int64  \n",
      "dtypes: float64(4), int64(5), object(1)\n",
      "memory usage: 15.4+ KB\n"
     ]
    }
   ],
   "source": [
    "# Check data types\n",
    "covid19Df.info()"
   ]
  },
  {
   "cell_type": "code",
   "execution_count": 10,
   "id": "bdc85b6e",
   "metadata": {},
   "outputs": [
    {
     "name": "stdout",
     "output_type": "stream",
     "text": [
      "<class 'pandas.core.frame.DataFrame'>\n",
      "Int64Index: 191 entries, 0 to 195\n",
      "Data columns (total 10 columns):\n",
      " #   Column                     Non-Null Count  Dtype \n",
      "---  ------                     --------------  ----- \n",
      " 0   Country                    191 non-null    object\n",
      " 1   Total Cases                191 non-null    int64 \n",
      " 2   Total Deaths               191 non-null    int64 \n",
      " 3   Total Recovered            191 non-null    int64 \n",
      " 4   Active Cases               191 non-null    int64 \n",
      " 5   Total Cases/1M population  191 non-null    int64 \n",
      " 6   Deaths/1M population       191 non-null    int64 \n",
      " 7   Total Tests                191 non-null    int64 \n",
      " 8   Tests/1M population        191 non-null    int64 \n",
      " 9   Population                 191 non-null    int64 \n",
      "dtypes: int64(9), object(1)\n",
      "memory usage: 16.4+ KB\n"
     ]
    }
   ],
   "source": [
    "# Covert float64 into int64\n",
    "covid19Df = covid19Df.dropna(subset=['Total Recovered'])\n",
    "covid19Df = covid19Df.dropna(subset=['Active Cases'])\n",
    "covid19Df = covid19Df.dropna(subset=['Total Tests'])\n",
    "covid19Df = covid19Df.dropna(subset=['Tests/1M population'])\n",
    "\n",
    "covid19Df['Total Recovered'] = covid19Df['Total Recovered'].apply(np.int64)\n",
    "covid19Df['Active Cases'] = covid19Df['Active Cases'].apply(np.int64)\n",
    "covid19Df['Total Tests'] = covid19Df['Total Tests'].apply(np.int64)\n",
    "covid19Df['Tests/1M population'] = covid19Df['Tests/1M population'].apply(np.int64)\n",
    "\n",
    "covid19Df.info()"
   ]
  },
  {
   "cell_type": "code",
   "execution_count": 6,
   "id": "e46a529c",
   "metadata": {},
   "outputs": [],
   "source": [
    "# (4) Choose the label and features"
   ]
  },
  {
   "cell_type": "code",
   "execution_count": 7,
   "id": "4cb6b126",
   "metadata": {},
   "outputs": [],
   "source": [
    "# (5) Feature engineer for data that is\n",
    "# (a) relevant \n",
    "# (b) unique\n",
    "# (c) correct \n",
    "# (d) not missing\n",
    "\n",
    "# Drop data that is not a,b,c, or d"
   ]
  },
  {
   "cell_type": "code",
   "execution_count": 8,
   "id": "3323db90",
   "metadata": {},
   "outputs": [],
   "source": [
    "# (6) Confirm data is ready with further exploratory analysis"
   ]
  },
  {
   "cell_type": "code",
   "execution_count": 9,
   "id": "2391b7ed",
   "metadata": {},
   "outputs": [],
   "source": [
    "# (7) Training, Testing (and/or Validation) data split \n",
    "\n",
    "# for example, 60/20/20"
   ]
  }
 ],
 "metadata": {
  "kernelspec": {
   "display_name": "Python 3 (ipykernel)",
   "language": "python",
   "name": "python3"
  },
  "language_info": {
   "codemirror_mode": {
    "name": "ipython",
    "version": 3
   },
   "file_extension": ".py",
   "mimetype": "text/x-python",
   "name": "python",
   "nbconvert_exporter": "python",
   "pygments_lexer": "ipython3",
   "version": "3.8.11"
  }
 },
 "nbformat": 4,
 "nbformat_minor": 5
}
