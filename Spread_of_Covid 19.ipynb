{
 "cells": [
  {
   "cell_type": "markdown",
   "id": "78022f03",
   "metadata": {},
   "source": [
    "## Option 3 - Spread of Covid 19"
   ]
  },
  {
   "cell_type": "markdown",
   "id": "9419306a",
   "metadata": {},
   "source": [
    "Look at this document for reference,\n",
    "https://www.kaggle.com/anandhuh/covid19-in-world-countrieslatest-data"
   ]
  },
  {
   "cell_type": "code",
   "execution_count": 1,
   "id": "f255e41b",
   "metadata": {},
   "outputs": [],
   "source": [
    "# (1) Import libraries\n",
    "import numpy as np\n",
    "import pandas as pd\n",
    "import matplotlib.pyplot as plt \n",
    "import seaborn as sns "
   ]
  },
  {
   "cell_type": "code",
   "execution_count": 2,
   "id": "db38109d",
   "metadata": {},
   "outputs": [],
   "source": [
    "# (2) Import the CSV file\n",
    "covid19Df = pd.read_csv('./worldwide covid data.csv')"
   ]
  },
  {
   "cell_type": "code",
   "execution_count": 3,
   "id": "f3016758",
   "metadata": {},
   "outputs": [
    {
     "data": {
      "text/html": [
       "<div>\n",
       "<style scoped>\n",
       "    .dataframe tbody tr th:only-of-type {\n",
       "        vertical-align: middle;\n",
       "    }\n",
       "\n",
       "    .dataframe tbody tr th {\n",
       "        vertical-align: top;\n",
       "    }\n",
       "\n",
       "    .dataframe thead th {\n",
       "        text-align: right;\n",
       "    }\n",
       "</style>\n",
       "<table border=\"1\" class=\"dataframe\">\n",
       "  <thead>\n",
       "    <tr style=\"text-align: right;\">\n",
       "      <th></th>\n",
       "      <th>Country</th>\n",
       "      <th>Total Cases</th>\n",
       "      <th>Total Deaths</th>\n",
       "      <th>Total Recovered</th>\n",
       "      <th>Active Cases</th>\n",
       "      <th>Total Cases/1M population</th>\n",
       "      <th>Deaths/1M population</th>\n",
       "      <th>Total Tests</th>\n",
       "      <th>Tests/1M population</th>\n",
       "      <th>Population</th>\n",
       "    </tr>\n",
       "  </thead>\n",
       "  <tbody>\n",
       "    <tr>\n",
       "      <th>0</th>\n",
       "      <td>Afghanistan</td>\n",
       "      <td>156307</td>\n",
       "      <td>7281</td>\n",
       "      <td>128791.0</td>\n",
       "      <td>20235.0</td>\n",
       "      <td>3898</td>\n",
       "      <td>182</td>\n",
       "      <td>774655.0</td>\n",
       "      <td>19319.0</td>\n",
       "      <td>40097200</td>\n",
       "    </tr>\n",
       "    <tr>\n",
       "      <th>1</th>\n",
       "      <td>Albania</td>\n",
       "      <td>186222</td>\n",
       "      <td>2937</td>\n",
       "      <td>175451.0</td>\n",
       "      <td>7834.0</td>\n",
       "      <td>64805</td>\n",
       "      <td>1022</td>\n",
       "      <td>1311540.0</td>\n",
       "      <td>456411.0</td>\n",
       "      <td>2873596</td>\n",
       "    </tr>\n",
       "    <tr>\n",
       "      <th>2</th>\n",
       "      <td>Algeria</td>\n",
       "      <td>206649</td>\n",
       "      <td>5927</td>\n",
       "      <td>141811.0</td>\n",
       "      <td>58911.0</td>\n",
       "      <td>4602</td>\n",
       "      <td>132</td>\n",
       "      <td>230861.0</td>\n",
       "      <td>5141.0</td>\n",
       "      <td>44907419</td>\n",
       "    </tr>\n",
       "    <tr>\n",
       "      <th>3</th>\n",
       "      <td>Andorra</td>\n",
       "      <td>15516</td>\n",
       "      <td>130</td>\n",
       "      <td>15242.0</td>\n",
       "      <td>144.0</td>\n",
       "      <td>200387</td>\n",
       "      <td>1679</td>\n",
       "      <td>193595.0</td>\n",
       "      <td>2500258.0</td>\n",
       "      <td>77430</td>\n",
       "    </tr>\n",
       "    <tr>\n",
       "      <th>4</th>\n",
       "      <td>Angola</td>\n",
       "      <td>64487</td>\n",
       "      <td>1713</td>\n",
       "      <td>53376.0</td>\n",
       "      <td>9398.0</td>\n",
       "      <td>1884</td>\n",
       "      <td>50</td>\n",
       "      <td>1092363.0</td>\n",
       "      <td>31915.0</td>\n",
       "      <td>34227629</td>\n",
       "    </tr>\n",
       "  </tbody>\n",
       "</table>\n",
       "</div>"
      ],
      "text/plain": [
       "       Country  Total Cases  Total Deaths  Total Recovered  Active Cases  \\\n",
       "0  Afghanistan       156307          7281         128791.0       20235.0   \n",
       "1      Albania       186222          2937         175451.0        7834.0   \n",
       "2      Algeria       206649          5927         141811.0       58911.0   \n",
       "3      Andorra        15516           130          15242.0         144.0   \n",
       "4       Angola        64487          1713          53376.0        9398.0   \n",
       "\n",
       "   Total Cases/1M population  Deaths/1M population  Total Tests  \\\n",
       "0                       3898                   182     774655.0   \n",
       "1                      64805                  1022    1311540.0   \n",
       "2                       4602                   132     230861.0   \n",
       "3                     200387                  1679     193595.0   \n",
       "4                       1884                    50    1092363.0   \n",
       "\n",
       "   Tests/1M population  Population  \n",
       "0              19319.0    40097200  \n",
       "1             456411.0     2873596  \n",
       "2               5141.0    44907419  \n",
       "3            2500258.0       77430  \n",
       "4              31915.0    34227629  "
      ]
     },
     "execution_count": 3,
     "metadata": {},
     "output_type": "execute_result"
    }
   ],
   "source": [
    "# (3) Explore data (for example, see what is categorial and numerical)\n",
    "covid19Df.head()"
   ]
  },
  {
   "cell_type": "code",
   "execution_count": 4,
   "id": "93d90b49",
   "metadata": {},
   "outputs": [
    {
     "name": "stdout",
     "output_type": "stream",
     "text": [
      "<class 'pandas.core.frame.DataFrame'>\n",
      "RangeIndex: 196 entries, 0 to 195\n",
      "Data columns (total 10 columns):\n",
      " #   Column                     Non-Null Count  Dtype  \n",
      "---  ------                     --------------  -----  \n",
      " 0   Country                    196 non-null    object \n",
      " 1   Total Cases                196 non-null    int64  \n",
      " 2   Total Deaths               196 non-null    int64  \n",
      " 3   Total Recovered            194 non-null    float64\n",
      " 4   Active Cases               194 non-null    float64\n",
      " 5   Total Cases/1M population  196 non-null    int64  \n",
      " 6   Deaths/1M population       196 non-null    int64  \n",
      " 7   Total Tests                192 non-null    float64\n",
      " 8   Tests/1M population        192 non-null    float64\n",
      " 9   Population                 196 non-null    int64  \n",
      "dtypes: float64(4), int64(5), object(1)\n",
      "memory usage: 15.4+ KB\n"
     ]
    }
   ],
   "source": [
    "# Check data types\n",
    "covid19Df.info()"
   ]
  },
  {
   "cell_type": "code",
   "execution_count": 5,
   "id": "e46a529c",
   "metadata": {},
   "outputs": [],
   "source": [
    "# (4) Choose the label and features\n",
    "LabelDf = covid19Df['Deaths/1M population']\n",
    "featuresDf = covid19Df.drop('Deaths/1M population', axis=1,inplace =False)"
   ]
  },
  {
   "cell_type": "code",
   "execution_count": 6,
   "id": "f86a0e61",
   "metadata": {},
   "outputs": [],
   "source": [
    "# (5) Feature engineer for data that is\n",
    "#(a) relevant\n",
    "# Droping irrelevant features \n",
    "featuresDf = covid19Df.drop(['Country','Total Cases','Total Deaths','Total Recovered',\n",
    "                             'Total Tests', 'Population', 'Active Cases'], axis=1,inplace =False)\n"
   ]
  },
  {
   "cell_type": "code",
   "execution_count": 7,
   "id": "e1e179b7",
   "metadata": {},
   "outputs": [
    {
     "name": "stdout",
     "output_type": "stream",
     "text": [
      "Before Dropping Duplicates :  (196, 10) \n",
      "\n",
      "\n",
      "After Dropping Duplicates :  (196, 10)\n"
     ]
    }
   ],
   "source": [
    "# (5) Feature engineer for data that is\n",
    "# (b) unique\n",
    "# Prove No Duplicates\n",
    "print(\"Before Dropping Duplicates : \",covid19Df.shape,'\\n')\n",
    "covid19Df=covid19Df.drop_duplicates()\n",
    "print(\"\\nAfter Dropping Duplicates : \",covid19Df.shape)"
   ]
  },
  {
   "cell_type": "code",
   "execution_count": 8,
   "id": "9481753a",
   "metadata": {},
   "outputs": [],
   "source": [
    "# (5) Feature engineer for data that is\n",
    "# (c) correct \n",
    "#Make sure no value is negative \n",
    "#Finding Negative Values and Capping To 0.\n",
    "for col in covid19Df.columns:\n",
    "    if(col=='Country'):\n",
    "        continue\n",
    "    for j in range(len(covid19Df)):\n",
    "        if(covid19Df[col][j]<0):\n",
    "            covid19Df[col][j]=0"
   ]
  },
  {
   "cell_type": "code",
   "execution_count": 9,
   "id": "97f9d2a0",
   "metadata": {},
   "outputs": [
    {
     "data": {
      "text/plain": [
       "Country                      0\n",
       "Total Cases                  0\n",
       "Total Deaths                 0\n",
       "Total Recovered              2\n",
       "Active Cases                 2\n",
       "Total Cases/1M population    0\n",
       "Deaths/1M population         0\n",
       "Total Tests                  4\n",
       "Tests/1M population          4\n",
       "Population                   0\n",
       "dtype: int64"
      ]
     },
     "execution_count": 9,
     "metadata": {},
     "output_type": "execute_result"
    }
   ],
   "source": [
    "# (5) Feature engineer for data that is\n",
    "# (d) not missing\n",
    "# First check the number of NULLS \n",
    "covid19Df.isna().sum()"
   ]
  },
  {
   "cell_type": "code",
   "execution_count": 10,
   "id": "5f0f57ae",
   "metadata": {},
   "outputs": [],
   "source": [
    "covid19Df.fillna(0,inplace=True)"
   ]
  },
  {
   "cell_type": "code",
   "execution_count": 11,
   "id": "db96e52b",
   "metadata": {},
   "outputs": [
    {
     "name": "stdout",
     "output_type": "stream",
     "text": [
      "<class 'pandas.core.frame.DataFrame'>\n",
      "Int64Index: 196 entries, 0 to 195\n",
      "Data columns (total 10 columns):\n",
      " #   Column                     Non-Null Count  Dtype  \n",
      "---  ------                     --------------  -----  \n",
      " 0   Country                    196 non-null    object \n",
      " 1   Total Cases                196 non-null    int64  \n",
      " 2   Total Deaths               196 non-null    int64  \n",
      " 3   Total Recovered            196 non-null    float64\n",
      " 4   Active Cases               196 non-null    float64\n",
      " 5   Total Cases/1M population  196 non-null    int64  \n",
      " 6   Deaths/1M population       196 non-null    int64  \n",
      " 7   Total Tests                196 non-null    float64\n",
      " 8   Tests/1M population        196 non-null    float64\n",
      " 9   Population                 196 non-null    int64  \n",
      "dtypes: float64(4), int64(5), object(1)\n",
      "memory usage: 20.9+ KB\n"
     ]
    }
   ],
   "source": [
    "covid19Df.info()"
   ]
  },
  {
   "cell_type": "code",
   "execution_count": 12,
   "id": "a166d0f3",
   "metadata": {},
   "outputs": [
    {
     "data": {
      "text/html": [
       "<div>\n",
       "<style scoped>\n",
       "    .dataframe tbody tr th:only-of-type {\n",
       "        vertical-align: middle;\n",
       "    }\n",
       "\n",
       "    .dataframe tbody tr th {\n",
       "        vertical-align: top;\n",
       "    }\n",
       "\n",
       "    .dataframe thead th {\n",
       "        text-align: right;\n",
       "    }\n",
       "</style>\n",
       "<table border=\"1\" class=\"dataframe\">\n",
       "  <thead>\n",
       "    <tr style=\"text-align: right;\">\n",
       "      <th></th>\n",
       "      <th>Total Cases/1M population</th>\n",
       "      <th>Deaths/1M population</th>\n",
       "      <th>Tests/1M population</th>\n",
       "    </tr>\n",
       "  </thead>\n",
       "  <tbody>\n",
       "    <tr>\n",
       "      <th>0</th>\n",
       "      <td>3898</td>\n",
       "      <td>182</td>\n",
       "      <td>19319.0</td>\n",
       "    </tr>\n",
       "    <tr>\n",
       "      <th>1</th>\n",
       "      <td>64805</td>\n",
       "      <td>1022</td>\n",
       "      <td>456411.0</td>\n",
       "    </tr>\n",
       "    <tr>\n",
       "      <th>2</th>\n",
       "      <td>4602</td>\n",
       "      <td>132</td>\n",
       "      <td>5141.0</td>\n",
       "    </tr>\n",
       "    <tr>\n",
       "      <th>3</th>\n",
       "      <td>200387</td>\n",
       "      <td>1679</td>\n",
       "      <td>2500258.0</td>\n",
       "    </tr>\n",
       "    <tr>\n",
       "      <th>4</th>\n",
       "      <td>1884</td>\n",
       "      <td>50</td>\n",
       "      <td>31915.0</td>\n",
       "    </tr>\n",
       "  </tbody>\n",
       "</table>\n",
       "</div>"
      ],
      "text/plain": [
       "   Total Cases/1M population  Deaths/1M population  Tests/1M population\n",
       "0                       3898                   182              19319.0\n",
       "1                      64805                  1022             456411.0\n",
       "2                       4602                   132               5141.0\n",
       "3                     200387                  1679            2500258.0\n",
       "4                       1884                    50              31915.0"
      ]
     },
     "execution_count": 12,
     "metadata": {},
     "output_type": "execute_result"
    }
   ],
   "source": [
    "featuresDf.head()"
   ]
  },
  {
   "cell_type": "code",
   "execution_count": 16,
   "id": "32445b00",
   "metadata": {},
   "outputs": [
    {
     "name": "stdout",
     "output_type": "stream",
     "text": [
      "<class 'pandas.core.frame.DataFrame'>\n",
      "Int64Index: 196 entries, 0 to 195\n",
      "Data columns (total 10 columns):\n",
      " #   Column                     Non-Null Count  Dtype \n",
      "---  ------                     --------------  ----- \n",
      " 0   Country                    196 non-null    object\n",
      " 1   Total Cases                196 non-null    int64 \n",
      " 2   Total Deaths               196 non-null    int64 \n",
      " 3   Total Recovered            196 non-null    int64 \n",
      " 4   Active Cases               196 non-null    int64 \n",
      " 5   Total Cases/1M population  196 non-null    int64 \n",
      " 6   Deaths/1M population       196 non-null    int64 \n",
      " 7   Total Tests                196 non-null    int64 \n",
      " 8   Tests/1M population        196 non-null    int64 \n",
      " 9   Population                 196 non-null    int64 \n",
      "dtypes: int64(9), object(1)\n",
      "memory usage: 20.9+ KB\n"
     ]
    }
   ],
   "source": [
    "# Covert float64 into int64\n",
    "covid19Df['Total Recovered'] = covid19Df['Total Recovered'].apply(np.int64)\n",
    "covid19Df['Active Cases'] = covid19Df['Active Cases'].apply(np.int64)\n",
    "covid19Df['Total Tests'] = covid19Df['Total Tests'].apply(np.int64)\n",
    "covid19Df['Tests/1M population'] = covid19Df['Tests/1M population'].apply(np.int64)\n",
    "\n",
    "covid19Df.info()"
   ]
  },
  {
   "cell_type": "code",
   "execution_count": 14,
   "id": "3323db90",
   "metadata": {},
   "outputs": [],
   "source": [
    "# (6) Confirm data is ready with further exploratory analysis\n"
   ]
  },
  {
   "cell_type": "code",
   "execution_count": 15,
   "id": "2391b7ed",
   "metadata": {},
   "outputs": [],
   "source": [
    "# (7) Training, Testing (and/or Validation) data split \n",
    "\n",
    "# for example, 60/20/20"
   ]
  }
 ],
 "metadata": {
  "kernelspec": {
   "display_name": "Python 3 (ipykernel)",
   "language": "python",
   "name": "python3"
  },
  "language_info": {
   "codemirror_mode": {
    "name": "ipython",
    "version": 3
   },
   "file_extension": ".py",
   "mimetype": "text/x-python",
   "name": "python",
   "nbconvert_exporter": "python",
   "pygments_lexer": "ipython3",
   "version": "3.8.11"
  }
 },
 "nbformat": 4,
 "nbformat_minor": 5
}
